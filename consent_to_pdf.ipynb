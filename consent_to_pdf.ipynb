{
 "cells": [
  {
   "cell_type": "code",
   "execution_count": 1,
   "metadata": {},
   "outputs": [],
   "source": [
    "import pandas as pd\n",
    "import numpy as np\n",
    "import os\n",
    "from fpdf import FPDF"
   ]
  },
  {
   "cell_type": "code",
   "execution_count": 2,
   "metadata": {},
   "outputs": [],
   "source": [
    "consent_form_path = os.path.join(os.getcwd(), 'datasets/consent.csv')"
   ]
  },
  {
   "cell_type": "code",
   "execution_count": 3,
   "metadata": {},
   "outputs": [
    {
     "data": {
      "application/vnd.microsoft.datawrangler.viewer.v0+json": {
       "columns": [
        {
         "name": "index",
         "rawType": "int64",
         "type": "integer"
        },
        {
         "name": "I allow my data to be used in future ethically approved research.",
         "rawType": "object",
         "type": "string"
        },
        {
         "name": "I agree to take part in this study.",
         "rawType": "object",
         "type": "string"
        },
        {
         "name": "Name of person giving consent ",
         "rawType": "object",
         "type": "string"
        },
        {
         "name": "Signature ",
         "rawType": "object",
         "type": "string"
        },
        {
         "name": "Date",
         "rawType": "object",
         "type": "string"
        }
       ],
       "conversionMethod": "pd.DataFrame",
       "ref": "ca576e98-6ec6-48df-8800-7144f246c3eb",
       "rows": [
        [
         "0",
         "Yes",
         "Yes",
         "Kimberley Paradis ",
         "Kimberley Paradis ",
         "2025-03-05"
        ],
        [
         "1",
         "Yes",
         "Yes",
         "Jaden Shek",
         "Jaden Shek",
         "2025-03-05"
        ],
        [
         "2",
         "Yes",
         "Yes",
         "Amelia",
         "A. Donaldson",
         "2025-03-05"
        ],
        [
         "3",
         "Yes",
         "Yes",
         "Maia Briggs",
         "Maia Briggs",
         "2025-03-05"
        ],
        [
         "4",
         "Yes",
         "Yes",
         "Marton Nemeth",
         "Marton Nemeth",
         "2025-03-05"
        ]
       ],
       "shape": {
        "columns": 5,
        "rows": 5
       }
      },
      "text/html": [
       "<div>\n",
       "<style scoped>\n",
       "    .dataframe tbody tr th:only-of-type {\n",
       "        vertical-align: middle;\n",
       "    }\n",
       "\n",
       "    .dataframe tbody tr th {\n",
       "        vertical-align: top;\n",
       "    }\n",
       "\n",
       "    .dataframe thead th {\n",
       "        text-align: right;\n",
       "    }\n",
       "</style>\n",
       "<table border=\"1\" class=\"dataframe\">\n",
       "  <thead>\n",
       "    <tr style=\"text-align: right;\">\n",
       "      <th></th>\n",
       "      <th>I allow my data to be used in future ethically approved research.</th>\n",
       "      <th>I agree to take part in this study.</th>\n",
       "      <th>Name of person giving consent</th>\n",
       "      <th>Signature</th>\n",
       "      <th>Date</th>\n",
       "    </tr>\n",
       "  </thead>\n",
       "  <tbody>\n",
       "    <tr>\n",
       "      <th>0</th>\n",
       "      <td>Yes</td>\n",
       "      <td>Yes</td>\n",
       "      <td>Kimberley Paradis</td>\n",
       "      <td>Kimberley Paradis</td>\n",
       "      <td>2025-03-05</td>\n",
       "    </tr>\n",
       "    <tr>\n",
       "      <th>1</th>\n",
       "      <td>Yes</td>\n",
       "      <td>Yes</td>\n",
       "      <td>Jaden Shek</td>\n",
       "      <td>Jaden Shek</td>\n",
       "      <td>2025-03-05</td>\n",
       "    </tr>\n",
       "    <tr>\n",
       "      <th>2</th>\n",
       "      <td>Yes</td>\n",
       "      <td>Yes</td>\n",
       "      <td>Amelia</td>\n",
       "      <td>A. Donaldson</td>\n",
       "      <td>2025-03-05</td>\n",
       "    </tr>\n",
       "    <tr>\n",
       "      <th>3</th>\n",
       "      <td>Yes</td>\n",
       "      <td>Yes</td>\n",
       "      <td>Maia Briggs</td>\n",
       "      <td>Maia Briggs</td>\n",
       "      <td>2025-03-05</td>\n",
       "    </tr>\n",
       "    <tr>\n",
       "      <th>4</th>\n",
       "      <td>Yes</td>\n",
       "      <td>Yes</td>\n",
       "      <td>Marton Nemeth</td>\n",
       "      <td>Marton Nemeth</td>\n",
       "      <td>2025-03-05</td>\n",
       "    </tr>\n",
       "  </tbody>\n",
       "</table>\n",
       "</div>"
      ],
      "text/plain": [
       "  I allow my data to be used in future ethically approved research.  \\\n",
       "0                                                Yes                  \n",
       "1                                                Yes                  \n",
       "2                                                Yes                  \n",
       "3                                                Yes                  \n",
       "4                                                Yes                  \n",
       "\n",
       "  I agree to take part in this study. Name of person giving consent   \\\n",
       "0                                 Yes             Kimberley Paradis    \n",
       "1                                 Yes                     Jaden Shek   \n",
       "2                                 Yes                         Amelia   \n",
       "3                                 Yes                    Maia Briggs   \n",
       "4                                 Yes                  Marton Nemeth   \n",
       "\n",
       "           Signature         Date  \n",
       "0  Kimberley Paradis   2025-03-05  \n",
       "1          Jaden Shek  2025-03-05  \n",
       "2        A. Donaldson  2025-03-05  \n",
       "3         Maia Briggs  2025-03-05  \n",
       "4       Marton Nemeth  2025-03-05  "
      ]
     },
     "execution_count": 3,
     "metadata": {},
     "output_type": "execute_result"
    }
   ],
   "source": [
    "consent_df = pd.read_csv(consent_form_path)\n",
    "consent_df.head()"
   ]
  },
  {
   "cell_type": "code",
   "execution_count": 4,
   "metadata": {},
   "outputs": [
    {
     "name": "stdout",
     "output_type": "stream",
     "text": [
      "Index(['I allow my data to be used in future ethically approved research.',\n",
      "       'I agree to take part in this study.', 'Name of person giving consent ',\n",
      "       'Signature ', 'Date'],\n",
      "      dtype='object')\n"
     ]
    }
   ],
   "source": [
    "columns = consent_df.columns\n",
    "print(columns)"
   ]
  },
  {
   "cell_type": "code",
   "execution_count": 5,
   "metadata": {},
   "outputs": [],
   "source": [
    "def write_section(file_object, question, response):\n",
    "    if question == \"NEXT\":\n",
    "        file_object.write(\"------ NEXT PERSON------\\n\")\n",
    "        return\n",
    "    \n",
    "    text = f\"{question}\\n{response}\"\n",
    "    \n",
    "    file_object.write(text + \"\\n\")"
   ]
  },
  {
   "cell_type": "code",
   "execution_count": 6,
   "metadata": {},
   "outputs": [],
   "source": [
    "with open(\"consent_docs/consent.txt\", \"w\", encoding=\"utf-8\", newline=\"\") as file_object:\n",
    "    for index, row in consent_df.iterrows():\n",
    "        for column in columns:\n",
    "            question = column\n",
    "            response = row[question]\n",
    "            write_section(file_object, question, response)\n",
    "        write_section(file_object, \"NEXT\", \"NEXT\")"
   ]
  },
  {
   "cell_type": "code",
   "execution_count": 7,
   "metadata": {},
   "outputs": [
    {
     "data": {
      "text/plain": [
       "''"
      ]
     },
     "execution_count": 7,
     "metadata": {},
     "output_type": "execute_result"
    }
   ],
   "source": [
    "with open(\"consent_docs/consent.txt\", \"r\", encoding=\"utf-8\") as file:\n",
    "    text = file.read()\n",
    "\n",
    "#Replace ------ NEXT PERSON------ with a page break\n",
    "text = text.replace(\"------ NEXT PERSON------\", \"\\f\")\n",
    "\n",
    "pdf = FPDF()\n",
    "\n",
    "pdf.add_page()\n",
    "\n",
    "pdf.set_font(\"Helvetica\", size=12)\n",
    "\n",
    "lines = text.split(\"\\n\")\n",
    "\n",
    "# Add each line to the PDF\n",
    "for line in lines:\n",
    "    if line == \"\\f\":\n",
    "        pdf.add_page()\n",
    "    elif line in columns:\n",
    "        pdf.set_font(\"Helvetica\", style='B', size=14)\n",
    "        pdf.cell(0, 10, txt=line, ln=True)\n",
    "        pdf.set_font(\"Helvetica\", size=12)\n",
    "    else:\n",
    "        pdf.cell(0, 10, txt=line, ln=True)\n",
    "\n",
    "# Save the PDF\n",
    "pdf.output(\"consent_docs/consent.pdf\")"
   ]
  }
 ],
 "metadata": {
  "kernelspec": {
   "display_name": "env",
   "language": "python",
   "name": "python3"
  },
  "language_info": {
   "codemirror_mode": {
    "name": "ipython",
    "version": 3
   },
   "file_extension": ".py",
   "mimetype": "text/x-python",
   "name": "python",
   "nbconvert_exporter": "python",
   "pygments_lexer": "ipython3",
   "version": "3.12.3"
  }
 },
 "nbformat": 4,
 "nbformat_minor": 2
}
