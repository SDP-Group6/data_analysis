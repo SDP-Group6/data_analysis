{
 "cells": [
  {
   "cell_type": "code",
   "execution_count": 1,
   "metadata": {},
   "outputs": [],
   "source": [
    "import pandas as pd\n",
    "import numpy as np\n",
    "import os\n",
    "import seaborn as sns\n",
    "import matplotlib.pyplot as plt\n",
    "\n",
    "import warnings\n",
    "warnings.simplefilter(\"ignore\")"
   ]
  },
  {
   "cell_type": "code",
   "execution_count": 2,
   "metadata": {},
   "outputs": [],
   "source": [
    "sns.set_palette(\"colorblind\")\n",
    "\n",
    "# Colorblind palette\n",
    "palette=[\"#0099CC\", # Blue\n",
    "        \"#FFC400\",  # Yellow\n",
    "        \"#8B9467\",  # Olive\n",
    "        \"#FF69B4\",  # Pink\n",
    "        \"#0097A7\",  # Teal\n",
    "        \"#666666\",  # Gray\n",
    "        \"#CC6600\"]  # Brown-Orange"
   ]
  },
  {
   "cell_type": "code",
   "execution_count": 3,
   "metadata": {},
   "outputs": [],
   "source": [
    "survey_form_path = os.path.join(os.getcwd(), 'datasets/survey.csv')"
   ]
  },
  {
   "cell_type": "code",
   "execution_count": 4,
   "metadata": {},
   "outputs": [
    {
     "data": {
      "application/vnd.microsoft.datawrangler.viewer.v0+json": {
       "columns": [
        {
         "name": "index",
         "rawType": "int64",
         "type": "integer"
        },
        {
         "name": "How often do you clean your keyboard?",
         "rawType": "object",
         "type": "string"
        },
        {
         "name": "How often do you use a public keyboard?",
         "rawType": "object",
         "type": "string"
        },
        {
         "name": "When you clean your keyboard, how long does it take?",
         "rawType": "object",
         "type": "string"
        },
        {
         "name": "Is it pleasant or demanding to clean and sanitize your keyboard?",
         "rawType": "object",
         "type": "string"
        },
        {
         "name": "On a scale of 1 to 5 (5 being you care a lot), how much do you care for a clean and sanitized keyboard?",
         "rawType": "int64",
         "type": "integer"
        },
        {
         "name": "After seeing this statistic, on a scale of 1 to 5 (5 being you care a lot), how much do you care to have the public keyboards that you use cleaned and sanitized?",
         "rawType": "int64",
         "type": "integer"
        },
        {
         "name": "What other products have you bought for keyboard cleaning? Answer 'None' if you have never bought keyboard specific cleaning products.",
         "rawType": "object",
         "type": "unknown"
        },
        {
         "name": "What features would you like to see in an autonomous keyboard cleaner?",
         "rawType": "object",
         "type": "string"
        },
        {
         "name": "On a scale of 1 to 5 (5 being very comfortable), how comfortable are you with a robot being used in your office space/library/lab?",
         "rawType": "int64",
         "type": "integer"
        },
        {
         "name": "For cleaning, do you prefer if a human or a robot does it?",
         "rawType": "object",
         "type": "string"
        },
        {
         "name": "On a scale of 1 to 5 (5 being the best), how satisfied are you with the cleaning and sanitizing job?",
         "rawType": "int64",
         "type": "integer"
        },
        {
         "name": "On a scale of 1 to 5 (5 being the best), how satisfied are you with how fast the robot comes?",
         "rawType": "int64",
         "type": "integer"
        },
        {
         "name": "On a scale of 1 to 5 (5 being very easy), how easy was it to call the robot from the web app?",
         "rawType": "int64",
         "type": "integer"
        },
        {
         "name": "On a scale of 1 to 5 (5 being the best), how satisfied are you with the user interface of the web app?",
         "rawType": "int64",
         "type": "integer"
        },
        {
         "name": "On a scale of 1 to 5 (5 being the best), how satisfied are you with the functionality of the web app?",
         "rawType": "int64",
         "type": "integer"
        },
        {
         "name": "On a scale of 1 to 5 (5 being the best), how satisfied are you with the user interface of the admin dashboard?",
         "rawType": "int64",
         "type": "integer"
        },
        {
         "name": "On a scale of 1 to 5 (5 being the best), how informative is the admin dashboard?",
         "rawType": "int64",
         "type": "integer"
        },
        {
         "name": "What visual data would you want present in the admin dashboard?",
         "rawType": "object",
         "type": "string"
        },
        {
         "name": "After observing the web app and robot integration, do you have any comments or suggestions for the product?",
         "rawType": "object",
         "type": "string"
        }
       ],
       "conversionMethod": "pd.DataFrame",
       "ref": "182cd8bd-c413-4237-9b77-c0acc9577e21",
       "rows": [
        [
         "0",
         "Every month",
         "2-3x a week",
         "Less than 1 minute",
         "I do not clean it, I would not know",
         "1",
         "2",
         null,
         "Low cost",
         "5",
         "Do not care",
         "3",
         "3",
         "4",
         "5",
         "5",
         "4",
         "5",
         "Nope",
         "Nope"
        ],
        [
         "1",
         "Every 3+ months",
         "Almost every day",
         "More than 10 mins",
         "Demanding",
         "4",
         "4",
         null,
         "Cleaning underneath the keys",
         "5",
         "Do not care",
         "3",
         "2",
         "5",
         "5",
         "4",
         "4",
         "4",
         "Support for multiple robots?",
         "UI said keyboard was cleaned before the robot finished cleaning, and while it was on its way to the keyboard"
        ],
        [
         "2",
         "Every 3+ months",
         "Almost every day",
         "1-5 mins",
         "Demanding",
         "3",
         "5",
         "Not cleaning, but a keyboard protector",
         "Easy to use",
         "5",
         "Do not care",
         "5",
         "4",
         "5",
         "5",
         "5",
         "5",
         "4",
         "Essentially, whether it has been properly cleaned or not.",
         "Make sure to let the user know how effective your cleaning is. Otherwise, great job. Solve your problems with your arm but great work!"
        ],
        [
         "3",
         "Every week",
         "2-3x a week",
         "Less than 1 minute",
         "Demanding",
         "2",
         "2",
         null,
         "high speed. ability to clear up dried grime that can’t just be wiped off",
         "3",
         "Human should do it",
         "3",
         "4",
         "5",
         "4",
         "5",
         "3",
         "3",
         "I don’t believe I was shown the admin dashboard",
         "no"
        ],
        [
         "4",
         "Every week",
         "No more than once a week",
         "1-5 mins",
         "Pleasant",
         "4",
         "5",
         "Keyboard cleaning slime",
         "Cleans properly ",
         "4",
         "Do not care",
         "4",
         "4",
         "5",
         "4",
         "5",
         "4",
         "4",
         "Last cleaned date ",
         "Robot seems too big to be able to navigate between desks, otherwise, great work"
        ]
       ],
       "shape": {
        "columns": 19,
        "rows": 5
       }
      },
      "text/html": [
       "<div>\n",
       "<style scoped>\n",
       "    .dataframe tbody tr th:only-of-type {\n",
       "        vertical-align: middle;\n",
       "    }\n",
       "\n",
       "    .dataframe tbody tr th {\n",
       "        vertical-align: top;\n",
       "    }\n",
       "\n",
       "    .dataframe thead th {\n",
       "        text-align: right;\n",
       "    }\n",
       "</style>\n",
       "<table border=\"1\" class=\"dataframe\">\n",
       "  <thead>\n",
       "    <tr style=\"text-align: right;\">\n",
       "      <th></th>\n",
       "      <th>How often do you clean your keyboard?</th>\n",
       "      <th>How often do you use a public keyboard?</th>\n",
       "      <th>When you clean your keyboard, how long does it take?</th>\n",
       "      <th>Is it pleasant or demanding to clean and sanitize your keyboard?</th>\n",
       "      <th>On a scale of 1 to 5 (5 being you care a lot), how much do you care for a clean and sanitized keyboard?</th>\n",
       "      <th>After seeing this statistic, on a scale of 1 to 5 (5 being you care a lot), how much do you care to have the public keyboards that you use cleaned and sanitized?</th>\n",
       "      <th>What other products have you bought for keyboard cleaning? Answer 'None' if you have never bought keyboard specific cleaning products.</th>\n",
       "      <th>What features would you like to see in an autonomous keyboard cleaner?</th>\n",
       "      <th>On a scale of 1 to 5 (5 being very comfortable), how comfortable are you with a robot being used in your office space/library/lab?</th>\n",
       "      <th>For cleaning, do you prefer if a human or a robot does it?</th>\n",
       "      <th>On a scale of 1 to 5 (5 being the best), how satisfied are you with the cleaning and sanitizing job?</th>\n",
       "      <th>On a scale of 1 to 5 (5 being the best), how satisfied are you with how fast the robot comes?</th>\n",
       "      <th>On a scale of 1 to 5 (5 being very easy), how easy was it to call the robot from the web app?</th>\n",
       "      <th>On a scale of 1 to 5 (5 being the best), how satisfied are you with the user interface of the web app?</th>\n",
       "      <th>On a scale of 1 to 5 (5 being the best), how satisfied are you with the functionality of the web app?</th>\n",
       "      <th>On a scale of 1 to 5 (5 being the best), how satisfied are you with the user interface of the admin dashboard?</th>\n",
       "      <th>On a scale of 1 to 5 (5 being the best), how informative is the admin dashboard?</th>\n",
       "      <th>What visual data would you want present in the admin dashboard?</th>\n",
       "      <th>After observing the web app and robot integration, do you have any comments or suggestions for the product?</th>\n",
       "    </tr>\n",
       "  </thead>\n",
       "  <tbody>\n",
       "    <tr>\n",
       "      <th>0</th>\n",
       "      <td>Every month</td>\n",
       "      <td>2-3x a week</td>\n",
       "      <td>Less than 1 minute</td>\n",
       "      <td>I do not clean it, I would not know</td>\n",
       "      <td>1</td>\n",
       "      <td>2</td>\n",
       "      <td>NaN</td>\n",
       "      <td>Low cost</td>\n",
       "      <td>5</td>\n",
       "      <td>Do not care</td>\n",
       "      <td>3</td>\n",
       "      <td>3</td>\n",
       "      <td>4</td>\n",
       "      <td>5</td>\n",
       "      <td>5</td>\n",
       "      <td>4</td>\n",
       "      <td>5</td>\n",
       "      <td>Nope</td>\n",
       "      <td>Nope</td>\n",
       "    </tr>\n",
       "    <tr>\n",
       "      <th>1</th>\n",
       "      <td>Every 3+ months</td>\n",
       "      <td>Almost every day</td>\n",
       "      <td>More than 10 mins</td>\n",
       "      <td>Demanding</td>\n",
       "      <td>4</td>\n",
       "      <td>4</td>\n",
       "      <td>NaN</td>\n",
       "      <td>Cleaning underneath the keys</td>\n",
       "      <td>5</td>\n",
       "      <td>Do not care</td>\n",
       "      <td>3</td>\n",
       "      <td>2</td>\n",
       "      <td>5</td>\n",
       "      <td>5</td>\n",
       "      <td>4</td>\n",
       "      <td>4</td>\n",
       "      <td>4</td>\n",
       "      <td>Support for multiple robots?</td>\n",
       "      <td>UI said keyboard was cleaned before the robot ...</td>\n",
       "    </tr>\n",
       "    <tr>\n",
       "      <th>2</th>\n",
       "      <td>Every 3+ months</td>\n",
       "      <td>Almost every day</td>\n",
       "      <td>1-5 mins</td>\n",
       "      <td>Demanding</td>\n",
       "      <td>3</td>\n",
       "      <td>5</td>\n",
       "      <td>Not cleaning, but a keyboard protector</td>\n",
       "      <td>Easy to use</td>\n",
       "      <td>5</td>\n",
       "      <td>Do not care</td>\n",
       "      <td>5</td>\n",
       "      <td>4</td>\n",
       "      <td>5</td>\n",
       "      <td>5</td>\n",
       "      <td>5</td>\n",
       "      <td>5</td>\n",
       "      <td>4</td>\n",
       "      <td>Essentially, whether it has been properly clea...</td>\n",
       "      <td>Make sure to let the user know how effective y...</td>\n",
       "    </tr>\n",
       "    <tr>\n",
       "      <th>3</th>\n",
       "      <td>Every week</td>\n",
       "      <td>2-3x a week</td>\n",
       "      <td>Less than 1 minute</td>\n",
       "      <td>Demanding</td>\n",
       "      <td>2</td>\n",
       "      <td>2</td>\n",
       "      <td>NaN</td>\n",
       "      <td>high speed. ability to clear up dried grime th...</td>\n",
       "      <td>3</td>\n",
       "      <td>Human should do it</td>\n",
       "      <td>3</td>\n",
       "      <td>4</td>\n",
       "      <td>5</td>\n",
       "      <td>4</td>\n",
       "      <td>5</td>\n",
       "      <td>3</td>\n",
       "      <td>3</td>\n",
       "      <td>I don’t believe I was shown the admin dashboard</td>\n",
       "      <td>no</td>\n",
       "    </tr>\n",
       "    <tr>\n",
       "      <th>4</th>\n",
       "      <td>Every week</td>\n",
       "      <td>No more than once a week</td>\n",
       "      <td>1-5 mins</td>\n",
       "      <td>Pleasant</td>\n",
       "      <td>4</td>\n",
       "      <td>5</td>\n",
       "      <td>Keyboard cleaning slime</td>\n",
       "      <td>Cleans properly</td>\n",
       "      <td>4</td>\n",
       "      <td>Do not care</td>\n",
       "      <td>4</td>\n",
       "      <td>4</td>\n",
       "      <td>5</td>\n",
       "      <td>4</td>\n",
       "      <td>5</td>\n",
       "      <td>4</td>\n",
       "      <td>4</td>\n",
       "      <td>Last cleaned date</td>\n",
       "      <td>Robot seems too big to be able to navigate bet...</td>\n",
       "    </tr>\n",
       "  </tbody>\n",
       "</table>\n",
       "</div>"
      ],
      "text/plain": [
       "  How often do you clean your keyboard?  \\\n",
       "0                           Every month   \n",
       "1                       Every 3+ months   \n",
       "2                       Every 3+ months   \n",
       "3                            Every week   \n",
       "4                            Every week   \n",
       "\n",
       "  How often do you use a public keyboard?  \\\n",
       "0                             2-3x a week   \n",
       "1                        Almost every day   \n",
       "2                        Almost every day   \n",
       "3                             2-3x a week   \n",
       "4                No more than once a week   \n",
       "\n",
       "  When you clean your keyboard, how long does it take?  \\\n",
       "0                                 Less than 1 minute     \n",
       "1                                  More than 10 mins     \n",
       "2                                           1-5 mins     \n",
       "3                                 Less than 1 minute     \n",
       "4                                           1-5 mins     \n",
       "\n",
       "  Is it pleasant or demanding to clean and sanitize your keyboard?  \\\n",
       "0                I do not clean it, I would not know                 \n",
       "1                                          Demanding                 \n",
       "2                                          Demanding                 \n",
       "3                                          Demanding                 \n",
       "4                                           Pleasant                 \n",
       "\n",
       "   On a scale of 1 to 5 (5 being you care a lot), how much do you care for a clean and sanitized keyboard?  \\\n",
       "0                                                  1                                                         \n",
       "1                                                  4                                                         \n",
       "2                                                  3                                                         \n",
       "3                                                  2                                                         \n",
       "4                                                  4                                                         \n",
       "\n",
       "   After seeing this statistic, on a scale of 1 to 5 (5 being you care a lot), how much do you care to have the public keyboards that you use cleaned and sanitized?  \\\n",
       "0                                                  2                                                                                                                   \n",
       "1                                                  4                                                                                                                   \n",
       "2                                                  5                                                                                                                   \n",
       "3                                                  2                                                                                                                   \n",
       "4                                                  5                                                                                                                   \n",
       "\n",
       "  What other products have you bought for keyboard cleaning? Answer 'None' if you have never bought keyboard specific cleaning products.  \\\n",
       "0                                                NaN                                                                                       \n",
       "1                                                NaN                                                                                       \n",
       "2             Not cleaning, but a keyboard protector                                                                                       \n",
       "3                                                NaN                                                                                       \n",
       "4                            Keyboard cleaning slime                                                                                       \n",
       "\n",
       "  What features would you like to see in an autonomous keyboard cleaner?  \\\n",
       "0                                           Low cost                       \n",
       "1                       Cleaning underneath the keys                       \n",
       "2                                        Easy to use                       \n",
       "3  high speed. ability to clear up dried grime th...                       \n",
       "4                                   Cleans properly                        \n",
       "\n",
       "   On a scale of 1 to 5 (5 being very comfortable), how comfortable are you with a robot being used in your office space/library/lab?  \\\n",
       "0                                                  5                                                                                    \n",
       "1                                                  5                                                                                    \n",
       "2                                                  5                                                                                    \n",
       "3                                                  3                                                                                    \n",
       "4                                                  4                                                                                    \n",
       "\n",
       "  For cleaning, do you prefer if a human or a robot does it?  \\\n",
       "0                                        Do not care           \n",
       "1                                        Do not care           \n",
       "2                                        Do not care           \n",
       "3                                 Human should do it           \n",
       "4                                        Do not care           \n",
       "\n",
       "   On a scale of 1 to 5 (5 being the best), how satisfied are you with the cleaning and sanitizing job?  \\\n",
       "0                                                  3                                                      \n",
       "1                                                  3                                                      \n",
       "2                                                  5                                                      \n",
       "3                                                  3                                                      \n",
       "4                                                  4                                                      \n",
       "\n",
       "   On a scale of 1 to 5 (5 being the best), how satisfied are you with how fast the robot comes?  \\\n",
       "0                                                  3                                               \n",
       "1                                                  2                                               \n",
       "2                                                  4                                               \n",
       "3                                                  4                                               \n",
       "4                                                  4                                               \n",
       "\n",
       "   On a scale of 1 to 5 (5 being very easy), how easy was it to call the robot from the web app?  \\\n",
       "0                                                  4                                               \n",
       "1                                                  5                                               \n",
       "2                                                  5                                               \n",
       "3                                                  5                                               \n",
       "4                                                  5                                               \n",
       "\n",
       "   On a scale of 1 to 5 (5 being the best), how satisfied are you with the user interface of the web app?  \\\n",
       "0                                                  5                                                        \n",
       "1                                                  5                                                        \n",
       "2                                                  5                                                        \n",
       "3                                                  4                                                        \n",
       "4                                                  4                                                        \n",
       "\n",
       "   On a scale of 1 to 5 (5 being the best), how satisfied are you with the functionality of the web app?  \\\n",
       "0                                                  5                                                       \n",
       "1                                                  4                                                       \n",
       "2                                                  5                                                       \n",
       "3                                                  5                                                       \n",
       "4                                                  5                                                       \n",
       "\n",
       "   On a scale of 1 to 5 (5 being the best), how satisfied are you with the user interface of the admin dashboard?  \\\n",
       "0                                                  4                                                                \n",
       "1                                                  4                                                                \n",
       "2                                                  5                                                                \n",
       "3                                                  3                                                                \n",
       "4                                                  4                                                                \n",
       "\n",
       "   On a scale of 1 to 5 (5 being the best), how informative is the admin dashboard?  \\\n",
       "0                                                  5                                  \n",
       "1                                                  4                                  \n",
       "2                                                  4                                  \n",
       "3                                                  3                                  \n",
       "4                                                  4                                  \n",
       "\n",
       "  What visual data would you want present in the admin dashboard?  \\\n",
       "0                                               Nope                \n",
       "1                       Support for multiple robots?                \n",
       "2  Essentially, whether it has been properly clea...                \n",
       "3    I don’t believe I was shown the admin dashboard                \n",
       "4                                 Last cleaned date                 \n",
       "\n",
       "  After observing the web app and robot integration, do you have any comments or suggestions for the product?  \n",
       "0                                               Nope                                                           \n",
       "1  UI said keyboard was cleaned before the robot ...                                                           \n",
       "2  Make sure to let the user know how effective y...                                                           \n",
       "3                                                 no                                                           \n",
       "4  Robot seems too big to be able to navigate bet...                                                           "
      ]
     },
     "execution_count": 4,
     "metadata": {},
     "output_type": "execute_result"
    }
   ],
   "source": [
    "survey_df = pd.read_csv(survey_form_path)\n",
    "survey_df.head()"
   ]
  },
  {
   "cell_type": "code",
   "execution_count": 5,
   "metadata": {},
   "outputs": [],
   "source": [
    "TOTAL_NUM_RESPONSES = len(survey_df)"
   ]
  },
  {
   "cell_type": "code",
   "execution_count": 6,
   "metadata": {},
   "outputs": [
    {
     "data": {
      "text/plain": [
       "Index(['How often do you clean your keyboard?',\n",
       "       'How often do you use a public keyboard?',\n",
       "       'When you clean your keyboard, how long does it take?',\n",
       "       'Is it pleasant or demanding to clean and sanitize your keyboard?',\n",
       "       'On a scale of 1 to 5 (5 being you care a lot), how much do you care for a clean and sanitized keyboard?',\n",
       "       'After seeing this statistic, on a scale of 1 to 5 (5 being you care a lot), how much do you care to have the public keyboards that you use cleaned and sanitized?',\n",
       "       'What other products have you bought for keyboard cleaning? Answer 'None' if you have never bought keyboard specific cleaning products.',\n",
       "       'What features would you like to see in an autonomous keyboard cleaner?',\n",
       "       'On a scale of 1 to 5 (5 being very comfortable), how comfortable are you with a robot being used in your office space/library/lab?',\n",
       "       'For cleaning, do you prefer if a human or a robot does it?',\n",
       "       'On a scale of 1 to 5 (5 being the best), how satisfied are you with the cleaning and sanitizing job?',\n",
       "       'On a scale of 1 to 5 (5 being the best), how satisfied are you with how fast the robot comes?',\n",
       "       'On a scale of 1 to 5 (5 being very easy), how easy was it to call the robot from the web app?',\n",
       "       'On a scale of 1 to 5 (5 being the best), how satisfied are you with the user interface of the web app?',\n",
       "       'On a scale of 1 to 5 (5 being the best), how satisfied are you with the functionality of the web app?',\n",
       "       'On a scale of 1 to 5 (5 being the best), how satisfied are you with the user interface of the admin dashboard?',\n",
       "       'On a scale of 1 to 5 (5 being the best), how informative is the admin dashboard?',\n",
       "       'What visual data would you want present in the admin dashboard?',\n",
       "       'After observing the web app and robot integration, do you have any comments or suggestions for the product?'],\n",
       "      dtype='object')"
      ]
     },
     "execution_count": 6,
     "metadata": {},
     "output_type": "execute_result"
    }
   ],
   "source": [
    "survey_df.columns"
   ]
  },
  {
   "cell_type": "code",
   "execution_count": 7,
   "metadata": {},
   "outputs": [],
   "source": [
    "# Function to show both count and percentage\n",
    "def autopct_format(pct, all_values):\n",
    "    absolute = int(round(pct * sum(all_values) / 100.0))  # Convert percentage to actual count\n",
    "    return f\"{absolute}\\n({pct:.1f}%)\"  # Display count and percentage"
   ]
  },
  {
   "cell_type": "markdown",
   "metadata": {},
   "source": [
    "Market Research"
   ]
  },
  {
   "cell_type": "markdown",
   "metadata": {},
   "source": [
    "Q1: How often do you clean your keyboards?  \n",
    "Options:\n",
    "- Every day\n",
    "- Every week\n",
    "- Every month\n",
    "- Every 3+ months\n",
    "- Never"
   ]
  },
  {
   "cell_type": "code",
   "execution_count": null,
   "metadata": {},
   "outputs": [
    {
     "data": {
      "text/plain": [
       "How often do you clean your keyboard?\n",
       "Every 3+ months    7\n",
       "Every month        4\n",
       "Never              4\n",
       "Every week         2\n",
       "Name: count, dtype: int64"
      ]
     },
     "execution_count": 8,
     "metadata": {},
     "output_type": "execute_result"
    }
   ],
   "source": [
    "q1_x_bins = [\"Every day\", \"Every week\", \"Every month\", \"Every 3+ months\", \"Never\"]\n",
    "\n",
    "# Options that have not been picked even once, are shown with assigned count 0\n",
    "q1_y_bins =survey_df[\"How often do you clean your keyboard?\"].value_counts().reindex(q1_x_bins, fill_value=0)\n",
    "\n",
    "survey_df[\"How often do you clean your keyboard?\"].value_counts()"
   ]
  },
  {
   "cell_type": "code",
   "execution_count": 9,
   "metadata": {},
   "outputs": [
    {
     "data": {
      "image/png": "[encoded data removed]",
      "text/plain": [
       "<Figure size 1200x600 with 1 Axes>"
      ]
     },
     "metadata": {},
     "output_type": "display_data"
    },
    {
     "data": {
      "text/plain": [
       "<Figure size 640x480 with 0 Axes>"
      ]
     },
     "metadata": {},
     "output_type": "display_data"
    }
   ],
   "source": [
    "ax = plt.figure(figsize=(12, 6)) \n",
    "ax = sns.barplot(x=q1_x_bins, y=q1_y_bins, palette=palette)\n",
    "\n",
    "# Median Category\n",
    "cumulative_counts = q1_y_bins.cumsum()\n",
    "median_index = np.searchsorted(cumulative_counts, TOTAL_NUM_RESPONSES // 2)\n",
    "median_category = q1_x_bins[median_index]\n",
    "\n",
    "for i, v in enumerate(q1_y_bins):\n",
    "    plt.text(i, v, str(v), ha=\"center\", va=\"bottom\")\n",
    "\n",
    "plt.xticks(rotation=10)\n",
    "plt.ylim(0, TOTAL_NUM_RESPONSES)\n",
    "plt.legend(title=\"Statistics\", labels=[f\"Median: {median_category}\"])\n",
    "plt.xlabel(\"Frequency of cleaning\")\n",
    "plt.ylabel(\"Number of Responses\")\n",
    "plt.title(\"How often do you clean your keyboard?\")\n",
    "plt.show()\n",
    "plt.tight_layout()"
   ]
  },
  {
   "cell_type": "code",
   "execution_count": 10,
   "metadata": {},
   "outputs": [
    {
     "data": {
      "image/png": "[encoded data removed]",
      "text/plain": [
       "<Figure size 1000x800 with 1 Axes>"
      ]
     },
     "metadata": {},
     "output_type": "display_data"
    }
   ],
   "source": [
    "plt.figure(figsize=(10,8))\n",
    "plt.pie(q1_y_bins, labels=q1_x_bins, autopct=lambda pct: autopct_format(pct, q1_y_bins), \n",
    "        colors=palette, wedgeprops={'edgecolor': 'black'})\n",
    "plt.title('How often do you clean your keyboard?')\n",
    "plt.show()"
   ]
  }
 ],
 "metadata": {
  "kernelspec": {
   "display_name": "env",
   "language": "python",
   "name": "python3"
  },
  "language_info": {
   "codemirror_mode": {
    "name": "ipython",
    "version": 3
   },
   "file_extension": ".py",
   "mimetype": "text/x-python",
   "name": "python",
   "nbconvert_exporter": "python",
   "pygments_lexer": "ipython3",
   "version": "3.12.3"
  }
 },
 "nbformat": 4,
 "nbformat_minor": 2
}
